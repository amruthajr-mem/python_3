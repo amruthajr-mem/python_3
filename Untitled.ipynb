{
 "cells": [
  {
   "cell_type": "code",
   "execution_count": 11,
   "id": "f5801288-6017-49cd-843b-63e917d0070a",
   "metadata": {},
   "outputs": [
    {
     "name": "stdout",
     "output_type": "stream",
     "text": [
      "nohtyP si emosewA\n"
     ]
    }
   ],
   "source": [
    "# program1\n",
    "\n",
    "str1= \"Python is Awesome\"\n",
    "words= str1.split()\n",
    "reverse=' '.join(word[::-1] for word in words)\n",
    "print(reverse)"
   ]
  },
  {
   "cell_type": "code",
   "execution_count": 17,
   "id": "619dbae0-7e6b-4f0a-b948-6f214238f1b8",
   "metadata": {},
   "outputs": [
    {
     "name": "stdout",
     "output_type": "stream",
     "text": [
      "Nohtyp si Emosewa\n"
     ]
    }
   ],
   "source": [
    "# program2\n",
    "str1= \"Python is Awesome\"\n",
    "words = str1.split()\n",
    "reversed_words=[]\n",
    "for word in words:\n",
    "    reversed_char = list(word[::-1])\n",
    "    for i, char in enumerate(word):\n",
    "        if char.isupper():\n",
    "            reversed_char[i]=reversed_char[i].upper()\n",
    "        else:\n",
    "            reversed_char[i]=reversed_char[i].lower()\n",
    "    reversed_words.append(\"\".join(reversed_char))\n",
    "result = ' '.join(reversed_words)\n",
    "print(result) \n",
    "            "
   ]
  },
  {
   "cell_type": "code",
   "execution_count": 21,
   "id": "9dddf6af-9d48-4e52-9fff-ecfbed8ce617",
   "metadata": {},
   "outputs": [
    {
     "name": "stdout",
     "output_type": "stream",
     "text": [
      "[10, 20, 30, 40, 50, 60, 70, 80, 90, 100]\n",
      "Before eliminating: 2749622112704\n",
      "[10, 20, 30, 40, 50]\n",
      "After eliminating: 2749622112704\n"
     ]
    }
   ],
   "source": [
    "# program3\n",
    "numbers=[10, 20, 30, 40, 50 ,60, 70, 80, 90, 100]\n",
    "print(numbers)\n",
    "print(\"Before eliminating:\" , id(numbers))\n",
    "i=0\n",
    "length=(len(numbers))\n",
    "while i < length :\n",
    "    if numbers[i] > 50 :\n",
    "        del numbers[i]\n",
    "        length -=1\n",
    "    else:\n",
    "        i +=1\n",
    "print(numbers)\n",
    "print(\"After eliminating:\" , id(numbers))\n",
    "\n",
    "    "
   ]
  },
  {
   "cell_type": "code",
   "execution_count": 23,
   "id": "cb456d83-8748-48d5-8fc4-c7ba9aacd324",
   "metadata": {},
   "outputs": [
    {
     "name": "stdout",
     "output_type": "stream",
     "text": [
      "[10, 20, 60, 30, 20, 40, 30, 60, 70, 80]\n",
      "[20, 60, 30]\n"
     ]
    }
   ],
   "source": [
    "# program4\n",
    "numbers_list=[10, 20, 60, 30, 20, 40, 30, 60, 70, 80]\n",
    "import collections\n",
    "duplicates = []\n",
    "count_list=collections.Counter(numbers_list)\n",
    "for i, count in count_list.items():\n",
    "    if count > 1:\n",
    "        duplicates.append(i)\n",
    "print(numbers_list)\n",
    "print(duplicates)"
   ]
  },
  {
   "cell_type": "code",
   "execution_count": 25,
   "id": "c64464ed-fca4-4f31-bbc6-9cbbffb2d2c6",
   "metadata": {},
   "outputs": [
    {
     "name": "stdout",
     "output_type": "stream",
     "text": [
      "{'A': 65, 'B': 66, 'C': 67, 'D': 68}\n",
      "{65: 'A', 66: 'B', 67: 'C', 68: 'D'}\n"
     ]
    }
   ],
   "source": [
    "# program5\n",
    "ascii_dict = {'A': 65, 'B': 66, 'C': 67, 'D': 68}\n",
    "result_dict={}\n",
    "for key, value in ascii_dict.items():\n",
    "    result_dict[value] =key;\n",
    "print(ascii_dict)\n",
    "print(result_dict)\n"
   ]
  },
  {
   "cell_type": "raw",
   "id": "ae01c075-1db0-473f-bcc3-7eef6f2689cd",
   "metadata": {},
   "source": [
    "\n",
    "\n"
   ]
  },
  {
   "cell_type": "code",
   "execution_count": 30,
   "id": "96ed2260-17c6-402c-b33a-2ad365da7bfa",
   "metadata": {},
   "outputs": [
    {
     "name": "stdin",
     "output_type": "stream",
     "text": [
      "Enter the number of rows: 6\n"
     ]
    },
    {
     "name": "stdout",
     "output_type": "stream",
     "text": [
      "1 1 1 1 1 1\n",
      "2 2 2 2 2\n",
      "3 3 3 3\n",
      "4 4 4\n",
      "5 5\n",
      "6\n",
      "\n"
     ]
    }
   ],
   "source": [
    "# program6\n",
    "row= int(input('Enter the number of rows:'))\n",
    "i=1\n",
    "for value in range(row, -1, -1):\n",
    "    result =' '.join([str(i) for _ in range(value)])\n",
    "    print(result)\n",
    "    i +=1"
   ]
  },
  {
   "cell_type": "code",
   "execution_count": 34,
   "id": "bcc3776c-9cc9-4de1-a4a6-6ac7f9ea4ead",
   "metadata": {},
   "outputs": [
    {
     "name": "stdout",
     "output_type": "stream",
     "text": [
      "----------------\n",
      "Account Holder: Alice\n",
      "Balance: 500\n",
      "----------------\n",
      "After depositing $200:\n",
      "Balance: 700\n",
      "----------------\n",
      "After withdrawing $300:\n",
      "Balance: 400\n",
      "----------------\n",
      "Invalid withdrawal amount. Check your balance.\n",
      "After trying to withdraw $500:\n",
      "Balance: 400\n"
     ]
    }
   ],
   "source": [
    "# program 9\n",
    "\n",
    "class BankAccount:\n",
    "    def __init__(self, account_holder, balance):\n",
    "        self.account_holder = account_holder\n",
    "        self._balance = balance \n",
    "\n",
    "    @property\n",
    "    def balance(self):\n",
    "        \"\"\"Getter for the account balance.\"\"\"\n",
    "        return self._balance\n",
    "\n",
    "    def deposit(self, amount):\n",
    "        \"\"\"Deposit money into the account.\"\"\"\n",
    "        if amount > 0:\n",
    "            self._balance += amount\n",
    "        else:\n",
    "            print(\"Deposit amount must be positive.\")\n",
    "\n",
    "    def withdraw(self, amount):\n",
    "        \"\"\"Withdraw money from the account.\"\"\"\n",
    "        if 0 < amount <= self._balance:\n",
    "            self._balance -= amount\n",
    "        else:\n",
    "            print(\"Invalid withdrawal amount. Check your balance.\")\n",
    "account = BankAccount(\"Alice\", 500)\n",
    "\n",
    "print(\"----------------\")\n",
    "print(\"Account Holder:\", account.account_holder)\n",
    "print(\"Balance:\", account.balance)\n",
    "\n",
    "print(\"----------------\")\n",
    "account.deposit(200)\n",
    "print(\"After depositing $200:\")\n",
    "print(\"Balance:\", account.balance)\n",
    "\n",
    "print(\"----------------\")\n",
    "account.withdraw(300)\n",
    "print(\"After withdrawing $300:\")\n",
    "print(\"Balance:\", account.balance)\n",
    "\n",
    "print(\"----------------\")\n",
    "account.withdraw(500)\n",
    "print(\"After trying to withdraw $500:\")\n",
    "print(\"Balance:\", account.balance)\n"
   ]
  },
  {
   "cell_type": "code",
   "execution_count": 38,
   "id": "159674b4-d7ca-4a28-8b27-a8215b865d79",
   "metadata": {},
   "outputs": [
    {
     "name": "stdout",
     "output_type": "stream",
     "text": [
      "\n",
      "this function simply sleeps\n",
      "\n",
      "---> Running sleeper_func\n",
      "sleeping for 2\n",
      "---> Completed sleeper_func in 2.0002996921539307\n"
     ]
    }
   ],
   "source": [
    "# program 8\n",
    "from functools import wraps\n",
    "import time\n",
    "def time_this(func):\n",
    "    '''\n",
    "    this function wraps\n",
    "    '''\n",
    "    @wraps(func)\n",
    "    def wrapper(*args, **kwargs):\n",
    "        '''\n",
    "        this function is what really wraps\n",
    "        '''\n",
    "        print(f'---> Running {func.__name__}')\n",
    "        start = time.time()\n",
    "        func(*args, **kwargs)\n",
    "        print(f'---> Completed {func.__name__} in {time.time() - start}')\n",
    "    return wrapper\n",
    "@time_this\n",
    "def sleeper_func(duration):\n",
    "    '''\n",
    "    this function simply sleeps\n",
    "    '''\n",
    "    print(f'sleeping for {duration}')\n",
    "    time.sleep(duration)\n",
    "\n",
    "print(sleeper_func.__doc__)\n",
    "sleeper_func(2)"
   ]
  },
  {
   "cell_type": "code",
   "execution_count": null,
   "id": "af060579-5e82-40ed-a58a-7bf0b5aebee3",
   "metadata": {},
   "outputs": [],
   "source": []
  },
  {
   "cell_type": "code",
   "execution_count": null,
   "id": "e54458ce-09e5-4ecd-84d6-d7f5fd79ec3b",
   "metadata": {},
   "outputs": [],
   "source": []
  },
  {
   "cell_type": "code",
   "execution_count": null,
   "id": "368533ea-b68e-4f40-b752-aeffcea41afc",
   "metadata": {},
   "outputs": [],
   "source": []
  },
  {
   "cell_type": "code",
   "execution_count": null,
   "id": "c33c5b08-8d79-4e46-be35-71c05e64b0ff",
   "metadata": {},
   "outputs": [],
   "source": []
  }
 ],
 "metadata": {
  "kernelspec": {
   "display_name": "Python 3 (ipykernel)",
   "language": "python",
   "name": "python3"
  },
  "language_info": {
   "codemirror_mode": {
    "name": "ipython",
    "version": 3
   },
   "file_extension": ".py",
   "mimetype": "text/x-python",
   "name": "python",
   "nbconvert_exporter": "python",
   "pygments_lexer": "ipython3",
   "version": "3.13.0"
  }
 },
 "nbformat": 4,
 "nbformat_minor": 5
}
